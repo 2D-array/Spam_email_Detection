{
 "cells": [
  {
   "cell_type": "code",
   "execution_count": 59,
   "id": "370351f9-e491-44b8-aef5-cd165e07075c",
   "metadata": {},
   "outputs": [],
   "source": [
    "import pandas as pd\n",
    "import numpy as np\n",
    "import os\n",
    "from sklearn.model_selection import train_test_split\n",
    "from sklearn.feature_extraction.text import CountVectorizer\n",
    "from sklearn.naive_bayes import MultinomialNB\n",
    "from sklearn.pipeline import Pipeline"
   ]
  },
  {
   "cell_type": "code",
   "execution_count": null,
   "id": "0b0022ff-6aee-4020-8842-72691a3fd6f2",
   "metadata": {},
   "outputs": [],
   "source": [
    "data = pd.read_csv(\"spam.csv\")\n",
    "data"
   ]
  },
  {
   "cell_type": "code",
   "execution_count": null,
   "id": "fe8c73ee-1b72-4989-aba2-255ef045f707",
   "metadata": {},
   "outputs": [],
   "source": [
    "data.head(10)\n"
   ]
  },
  {
   "cell_type": "code",
   "execution_count": 65,
   "id": "1a62aaad-0ea0-4e07-907a-fafdc400ea6e",
   "metadata": {},
   "outputs": [
    {
     "data": {
      "text/plain": [
       "Index(['Category', 'Message'], dtype='object')"
      ]
     },
     "execution_count": 65,
     "metadata": {},
     "output_type": "execute_result"
    }
   ],
   "source": [
    "data.columns"
   ]
  },
  {
   "cell_type": "code",
   "execution_count": null,
   "id": "2070717c-657c-4b4f-9ad3-e11fd50d7014",
   "metadata": {},
   "outputs": [],
   "source": [
    "data.info()"
   ]
  },
  {
   "cell_type": "code",
   "execution_count": null,
   "id": "85414bee-3316-45df-978c-5af75e93dafc",
   "metadata": {},
   "outputs": [],
   "source": [
    "data.isna().sum()"
   ]
  },
  {
   "cell_type": "code",
   "execution_count": null,
   "id": "06617923-619b-472a-9a7f-fad265b177b6",
   "metadata": {},
   "outputs": [],
   "source": [
    "data['Spam']=data['Category'].apply(lambda x:1 if x=='spam' else 0)\n",
    "data.head(5)"
   ]
  },
  {
   "cell_type": "code",
   "execution_count": 121,
   "id": "10fe8218-a021-42d0-b39f-c31df6ff11a3",
   "metadata": {},
   "outputs": [],
   "source": [
    "\n",
    "X_train,X_test,y_train,y_test=train_test_split(data.Message,data.Spam,test_size=0.35)\n",
    "\n",
    "\n",
    "clf=Pipeline([\n",
    "    ('vectorizer',CountVectorizer()),\n",
    "    ('nb',MultinomialNB())\n",
    "])"
   ]
  },
  {
   "cell_type": "code",
   "execution_count": null,
   "id": "b53952e6-2d1d-4e47-be3d-d61765a4a509",
   "metadata": {},
   "outputs": [],
   "source": [
    "clf.fit(X_train,y_train)"
   ]
  },
  {
   "cell_type": "code",
   "execution_count": 125,
   "id": "c685906f-dac6-4fc0-9604-ee904ecb36a2",
   "metadata": {},
   "outputs": [],
   "source": [
    "emails=[\n",
    "    'We have some great news!',\n",
    "    'A new bid has been made on your listing.', \n",
    "    'We invite you to check out this offer now to see if it meets your expectations.'\n",
    "]"
   ]
  },
  {
   "cell_type": "code",
   "execution_count": null,
   "id": "cff09ec9-5c7f-4b9a-9a0e-0fbd69835d8e",
   "metadata": {},
   "outputs": [],
   "source": [
    "clf.predict(emails)"
   ]
  },
  {
   "cell_type": "code",
   "execution_count": 129,
   "id": "06284d18-4f23-41ad-a46e-3f652a4de126",
   "metadata": {},
   "outputs": [],
   "source": [
    "import pickle"
   ]
  },
  {
   "cell_type": "code",
   "execution_count": null,
   "id": "a8976ed6-a8ec-4f4c-97ed-5e3019507e90",
   "metadata": {},
   "outputs": [],
   "source": [
    "with open(\"model.pkl\", \"wb\") as f:\n",
    "    pickle.dump(best_model, f)"
   ]
  }
 ],
 "metadata": {
  "kernelspec": {
   "display_name": "Python [conda env:base] *",
   "language": "python",
   "name": "conda-base-py"
  },
  "language_info": {
   "codemirror_mode": {
    "name": "ipython",
    "version": 3
   },
   "file_extension": ".py",
   "mimetype": "text/x-python",
   "name": "python",
   "nbconvert_exporter": "python",
   "pygments_lexer": "ipython3",
   "version": "3.12.7"
  }
 },
 "nbformat": 4,
 "nbformat_minor": 5
}
